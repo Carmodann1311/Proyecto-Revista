{
  "nbformat": 4,
  "nbformat_minor": 0,
  "metadata": {
    "colab": {
      "provenance": [],
      "authorship_tag": "ABX9TyNWLC58l0pEYrcFFwtjVkCk",
      "include_colab_link": true
    },
    "kernelspec": {
      "name": "python3",
      "display_name": "Python 3"
    },
    "language_info": {
      "name": "python"
    }
  },
  "cells": [
    {
      "cell_type": "markdown",
      "metadata": {
        "id": "view-in-github",
        "colab_type": "text"
      },
      "source": [
        "<a href=\"https://colab.research.google.com/github/Carmodann1311/Proyecto-Revista/blob/main/prototipico_juegos.ipynb\" target=\"_parent\"><img src=\"https://colab.research.google.com/assets/colab-badge.svg\" alt=\"Open In Colab\"/></a>"
      ]
    },
    {
      "cell_type": "code",
      "execution_count": 2,
      "metadata": {
        "colab": {
          "base_uri": "https://localhost:8080/"
        },
        "id": "gdSzema9BG1k",
        "outputId": "5208d61e-518e-4bc8-8fdc-0f4c0b626872"
      },
      "outputs": [
        {
          "output_type": "stream",
          "name": "stdout",
          "text": [
            "¿Te sientes abrumado por la carga de trabajo? (Responde 's' para sí y 'n' para no): s\n",
            "¿Has pensado en abandonar la universidad en el pasado? (Responde 's' para sí y 'n' para no): n\n",
            "¿Te sientes apoyado por tus profesores y compañeros? (Responde 's' para sí y 'n' para no): s\n",
            "¿Estás satisfecho con tu especialización? (Responde 's' para sí y 'n' para no): s\n",
            "¿Tienes un plan claro para tu futuro después de la universidad? (Responde 's' para sí y 'n' para no): n\n",
            "¿Tienes dificultades financieras? (Responde 's' para sí y 'n' para no): s\n",
            "¿Tienes problemas de salud mental o física? (Responde 's' para sí y 'n' para no): n\n",
            "¿Estás involucrado en actividades extracurriculares? (Responde 's' para sí y 'n' para no): s\n",
            "¿Tienes un sistema de apoyo sólido fuera de la universidad? (Responde 's' para sí y 'n' para no): n\n",
            "¿Te ves completando tus estudios universitarios? (Responde 's' para sí y 'n' para no): s\n",
            "Puntuación: 6 respuestas afirmativas\n",
            "Alta probabilidad de abandonar.\n",
            "Recuerda: no estas solo siempre hay una solucion para todo.\n"
          ]
        }
      ],
      "source": [
        "respuestas = []\n",
        "\n",
        "preguntas = [\n",
        "    \"¿Te sientes abrumado por la carga de trabajo?\",\n",
        "    \"¿Has pensado en abandonar la universidad en el pasado?\",\n",
        "    \"¿Te sientes apoyado por tus profesores y compañeros?\",\n",
        "    \"¿Estás satisfecho con tu especialización?\",\n",
        "    \"¿Tienes un plan claro para tu futuro después de la universidad?\",\n",
        "    \"¿Tienes dificultades financieras?\",\n",
        "    \"¿Tienes problemas de salud mental o física?\",\n",
        "    \"¿Estás involucrado en actividades extracurriculares?\",\n",
        "    \"¿Tienes un sistema de apoyo sólido fuera de la universidad?\",\n",
        "    \"¿Te ves completando tus estudios universitarios?\"\n",
        "]\n",
        "\n",
        "for pregunta in preguntas:\n",
        "    respuesta = input(pregunta + \" (Responde 's' para sí y 'n' para no): \")\n",
        "    while respuesta != 's' and respuesta != 'n':\n",
        "        respuesta = input(\"Por favor, responde 's' para sí y 'n' para no: \")\n",
        "    respuestas.append(respuesta)\n",
        "\n",
        "num_respuestas_afirmativas = respuestas.count('s')\n",
        "probabilidad_abandono = \"\"\n",
        "\n",
        "if num_respuestas_afirmativas == 1 or num_respuestas_afirmativas == 2:\n",
        "    probabilidad_abandono = \"Baja probabilidad de abandonar.\"\n",
        "elif num_respuestas_afirmativas >= 3 and num_respuestas_afirmativas <= 5:\n",
        "    probabilidad_abandono = \"Probabilidad moderada de abandonar.\"\n",
        "elif num_respuestas_afirmativas == 6 or num_respuestas_afirmativas == 7:\n",
        "    probabilidad_abandono = \"Alta probabilidad de abandonar.\"\n",
        "else:\n",
        "    probabilidad_abandono = \"Muy alta probabilidad de abandonar.\"\n",
        "\n",
        "print(\"Puntuación: {} respuestas afirmativas\".format(num_respuestas_afirmativas))\n",
        "print(probabilidad_abandono)\n",
        "print(\"Recuerda: no estas solo siempre hay una solucion para todo.\")"
      ]
    },
    {
      "cell_type": "code",
      "source": [
        "ansiedad = False\n",
        "depresion = False\n",
        "estres = False\n",
        "trastornos_alimentacion = False\n",
        "tdah = False\n",
        "trastornos_sueno = False\n",
        "problemas_autoestima = False\n",
        "bullying_acoso_escolar = False\n",
        "abuso_sustancias = False\n",
        "\n",
        "print(\"Responde 'Si' o 'No' a las siguientes preguntas:\")\n",
        "respuesta = input(\"¿Sientes constantemente preocupación o miedo excesivo? \")\n",
        "if respuesta.lower() == \"si\":\n",
        "    ansiedad = True\n",
        "\n",
        "respuesta = input(\"¿Te sientes triste la mayor parte del tiempo? \")\n",
        "if respuesta.lower() == \"si\":\n",
        "    depresion = True\n",
        "\n",
        "respuesta = input(\"¿Te sientes muy presionado/a o agobiado/a en tu vida diaria? \")\n",
        "if respuesta.lower() == \"si\":\n",
        "    estres = True\n",
        "\n",
        "respuesta = input(\"¿Tienes problemas con la alimentación, como atracones o restricciones excesivas de comida? \")\n",
        "if respuesta.lower() == \"si\":\n",
        "    trastornos_alimentacion = True\n",
        "\n",
        "respuesta = input(\"¿Tienes dificultades para concentrarte en tus tareas o actividades? \")\n",
        "if respuesta.lower() == \"si\":\n",
        "    tdah = True\n",
        "\n",
        "respuesta = input(\"¿Tienes problemas para conciliar el sueño o te despiertas frecuentemente durante la noche? \")\n",
        "if respuesta.lower() == \"si\":\n",
        "    trastornos_sueno = True\n",
        "\n",
        "respuesta = input(\"¿Tienes una baja autoestima y te sientes poco valioso/a? \")\n",
        "if respuesta.lower() == \"si\":\n",
        "    problemas_autoestima = True\n",
        "\n",
        "respuesta = input(\"¿Has sido víctima de bullying o acoso escolar? \")\n",
        "if respuesta.lower() == \"si\":\n",
        "    bullying_acoso_escolar = True\n",
        "\n",
        "respuesta = input(\"¿Has consumido drogas o alcohol de forma problemática? \")\n",
        "if respuesta.lower() == \"si\":\n",
        "    abuso_sustancias = True\n",
        "\n",
        "if ansiedad:\n",
        "    print(\"Tienes ansiedad.\")\n",
        "if depresion:\n",
        "    print(\"Tienes depresión.\")\n",
        "if estres:\n",
        "    print(\"Tienes estrés.\")\n",
        "if trastornos_alimentacion:\n",
        "    print(\"Tienes trastornos de alimentación.\")\n",
        "if tdah:\n",
        "    print(\"Tienes TDAH.\")\n",
        "if trastornos_sueno:\n",
        "    print(\"Tienes trastornos del sueño.\")\n",
        "if problemas_autoestima:\n",
        "    print(\"Tienes problemas de autoestima.\")\n",
        "if bullying_acoso_escolar:\n",
        "    print(\"Has sido víctima de bullying y acoso escolar.\")\n",
        "if abuso_sustancias:\n",
        "    print(\"Tienes abuso de sustancias.\")"
      ],
      "metadata": {
        "id": "txRuwQLiB6Pw"
      },
      "execution_count": null,
      "outputs": []
    },
    {
      "cell_type": "code",
      "source": [
        "\n",
        "import random\n",
        "\n",
        "def obtener_palabra():\n",
        "    palabras = [\"felicidad\", \"relajacion\", \"equilibrio\", \"paciencia\", \"resiliencia\"]\n",
        "    return random.choice(palabras)\n",
        "\n",
        "def jugar():\n",
        "    palabra = obtener_palabra()\n",
        "    palabra_oculta = [\"_\" for _ in palabra]\n",
        "    intentos = 0\n",
        "\n",
        "    print(\"Bienvenido al juego de salud mental\")\n",
        "    print(\"Adivina la palabra oculta\")\n",
        "\n",
        "    while '_' in palabra_oculta and intentos < 5:\n",
        "        print(\" \".join(palabra_oculta))\n",
        "        letra = input(\"Introduce una letra: \").lower()\n",
        "\n",
        "        if letra in palabra:\n",
        "            for i in range(len(palabra)):\n",
        "                if palabra[i] == letra:\n",
        "                    palabra_oculta[i] = letra\n",
        "        else:\n",
        "            intentos += 1\n",
        "            print(\"Letra incorrecta, llevas {} intentos.\".format(intentos))\n",
        "\n",
        "    if '_' not in palabra_oculta:\n",
        "        print(\"¡Felicidades! Has adivinado la palabra: {}\".format(palabra))\n",
        "    else:\n",
        "        print(\"Agotaste tus intentos. La palabra era: {}\".format(palabra))\n",
        "\n",
        "jugar()\n"
      ],
      "metadata": {
        "id": "trG_5C2GCAe3"
      },
      "execution_count": null,
      "outputs": []
    },
    {
      "cell_type": "code",
      "source": [
        "print(\"Bienvenido al juego de decisiones emocionales\")\n",
        "print(\"¿Estás listo para jugar?\")\n",
        "ready = input(\"Presiona 'S' para empezar el juego: \")\n",
        "\n",
        "if ready.lower() == 's':\n",
        "    print(\"Excelente, comencemos...\")\n",
        "    print(\"Estás caminando por un bosque y te encuentras con una bifurcación\")\n",
        "    decision_1 = input(\"¿Tomar el camino de la izquierda (I) o el camino de la derecha (D)?: \")\n",
        "\n",
        "    if decision_1.lower() == 'i':\n",
        "        print(\"Te encuentras con un río y un puente de madera\")\n",
        "        decision_2 = input(\"¿Cruzas el río (C) o buscas otro camino (B)?: \")\n",
        "\n",
        "        if decision_2.lower() == 'c':\n",
        "            print(\"El puente se derrumba y caes al río\")\n",
        "        elif decision_2.lower() == 'b':\n",
        "            print(\"Encuentras otro camino y llegas a un hermoso prado\")\n",
        "        else:\n",
        "            print(\"Opción no válida\")\n",
        "    elif decision_1.lower() == 'd':\n",
        "        print(\"Te encuentras con un lobo\")\n",
        "        decision_3 = input(\"¿Corres (C) o intentas ahuyentarlo (A)?: \")"
      ],
      "metadata": {
        "id": "3KyDqR-RCGOv"
      },
      "execution_count": null,
      "outputs": []
    }
  ]
}