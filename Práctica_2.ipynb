{
  "nbformat": 4,
  "nbformat_minor": 0,
  "metadata": {
    "colab": {
      "provenance": [],
      "authorship_tag": "ABX9TyM8zPH+FlaQsG4Hn797tXcV",
      "include_colab_link": true
    },
    "kernelspec": {
      "name": "ir",
      "display_name": "R"
    },
    "language_info": {
      "name": "R"
    }
  },
  "cells": [
    {
      "cell_type": "markdown",
      "metadata": {
        "id": "view-in-github",
        "colab_type": "text"
      },
      "source": [
        "<a href=\"https://colab.research.google.com/github/Carmodann1311/Proyecto-Revista/blob/main/Pr%C3%A1ctica_2.ipynb\" target=\"_parent\"><img src=\"https://colab.research.google.com/assets/colab-badge.svg\" alt=\"Open In Colab\"/></a>"
      ]
    },
    {
      "cell_type": "markdown",
      "source": [
        "codigos del correo electrónico: Probar las funciones enviadas a tu correo electrónico"
      ],
      "metadata": {
        "id": "Zti5LE_nwYts"
      }
    },
    {
      "cell_type": "code",
      "execution_count": null,
      "metadata": {
        "id": "YcOeW7x0t3Rz"
      },
      "outputs": [],
      "source": [
        "# Tipos de datos primitivos\n",
        "caracter <- \"Dato\"\n",
        "entero <- 3L\n",
        "real <- 4.3\n",
        "logico <- FALSE\n",
        "complejo <- 2 + 3i\n",
        "otroEntero <- 4"
      ]
    },
    {
      "cell_type": "code",
      "source": [
        "# Comprobacion de tipos de datos\n",
        "class(caracter)\n",
        "class(entero)\n",
        "class(real)\n",
        "class(logico)\n",
        "class(complejo)\n",
        "class(otroEntero)"
      ],
      "metadata": {
        "colab": {
          "base_uri": "https://localhost:8080/",
          "height": 121
        },
        "id": "3a0bivUbt_-U",
        "outputId": "8fdec23a-485d-4326-8e74-8f384b03391a"
      },
      "execution_count": null,
      "outputs": [
        {
          "output_type": "display_data",
          "data": {
            "text/html": [
              "'character'"
            ],
            "text/markdown": "'character'",
            "text/latex": "'character'",
            "text/plain": [
              "[1] \"character\""
            ]
          },
          "metadata": {}
        },
        {
          "output_type": "display_data",
          "data": {
            "text/html": [
              "'integer'"
            ],
            "text/markdown": "'integer'",
            "text/latex": "'integer'",
            "text/plain": [
              "[1] \"integer\""
            ]
          },
          "metadata": {}
        },
        {
          "output_type": "display_data",
          "data": {
            "text/html": [
              "'numeric'"
            ],
            "text/markdown": "'numeric'",
            "text/latex": "'numeric'",
            "text/plain": [
              "[1] \"numeric\""
            ]
          },
          "metadata": {}
        },
        {
          "output_type": "display_data",
          "data": {
            "text/html": [
              "'logical'"
            ],
            "text/markdown": "'logical'",
            "text/latex": "'logical'",
            "text/plain": [
              "[1] \"logical\""
            ]
          },
          "metadata": {}
        },
        {
          "output_type": "display_data",
          "data": {
            "text/html": [
              "'complex'"
            ],
            "text/markdown": "'complex'",
            "text/latex": "'complex'",
            "text/plain": [
              "[1] \"complex\""
            ]
          },
          "metadata": {}
        },
        {
          "output_type": "display_data",
          "data": {
            "text/html": [
              "'numeric'"
            ],
            "text/markdown": "'numeric'",
            "text/latex": "'numeric'",
            "text/plain": [
              "[1] \"numeric\""
            ]
          },
          "metadata": {}
        }
      ]
    },
    {
      "cell_type": "code",
      "source": [
        "str(caracter)\n",
        "str(entero)\n",
        "str(real)\n",
        "str(logico)\n",
        "str(complejo)"
      ],
      "metadata": {
        "colab": {
          "base_uri": "https://localhost:8080/"
        },
        "id": "7q7nmetmuAMl",
        "outputId": "d8c5bd6c-b0f8-484f-c4de-4d8c3020cbfa"
      },
      "execution_count": null,
      "outputs": [
        {
          "output_type": "stream",
          "name": "stdout",
          "text": [
            " chr \"Dato\"\n",
            " int 3\n",
            " num 4.3\n",
            " logi FALSE\n",
            " cplx 2+3i\n"
          ]
        }
      ]
    },
    {
      "cell_type": "code",
      "source": [
        "# Operaciones aritmeticas\n",
        "suma <- 2 + 3\n",
        "resta <- 5 - 7\n",
        "multiplica <- 5 * 6\n",
        "divide <- 6 / 2\n",
        "expo <- 2 ^ 3\n",
        "residuo <- 5 %% 2\n",
        "div_entera <- 5 %/% 2"
      ],
      "metadata": {
        "id": "CXgXiZfMuATP"
      },
      "execution_count": null,
      "outputs": []
    },
    {
      "cell_type": "code",
      "source": [
        "# Operadores de Comparacion\n",
        "2 > 1 # Mayor Que\n",
        "2 >= 2 # Mayor o Igual a\n",
        "1 < 2 # Menor Que\n",
        "3 <= 2 # Menor o Igual a\n",
        "3 == 3 # Igual A\n",
        "2 != 3 # Diferente"
      ],
      "metadata": {
        "colab": {
          "base_uri": "https://localhost:8080/",
          "height": 121
        },
        "id": "5-loR5sBuA0D",
        "outputId": "e9e3aaa7-a625-4307-b9f7-73bc80bb19a5"
      },
      "execution_count": null,
      "outputs": [
        {
          "output_type": "display_data",
          "data": {
            "text/html": [
              "TRUE"
            ],
            "text/markdown": "TRUE",
            "text/latex": "TRUE",
            "text/plain": [
              "[1] TRUE"
            ]
          },
          "metadata": {}
        },
        {
          "output_type": "display_data",
          "data": {
            "text/html": [
              "TRUE"
            ],
            "text/markdown": "TRUE",
            "text/latex": "TRUE",
            "text/plain": [
              "[1] TRUE"
            ]
          },
          "metadata": {}
        },
        {
          "output_type": "display_data",
          "data": {
            "text/html": [
              "TRUE"
            ],
            "text/markdown": "TRUE",
            "text/latex": "TRUE",
            "text/plain": [
              "[1] TRUE"
            ]
          },
          "metadata": {}
        },
        {
          "output_type": "display_data",
          "data": {
            "text/html": [
              "FALSE"
            ],
            "text/markdown": "FALSE",
            "text/latex": "FALSE",
            "text/plain": [
              "[1] FALSE"
            ]
          },
          "metadata": {}
        },
        {
          "output_type": "display_data",
          "data": {
            "text/html": [
              "TRUE"
            ],
            "text/markdown": "TRUE",
            "text/latex": "TRUE",
            "text/plain": [
              "[1] TRUE"
            ]
          },
          "metadata": {}
        },
        {
          "output_type": "display_data",
          "data": {
            "text/html": [
              "TRUE"
            ],
            "text/markdown": "TRUE",
            "text/latex": "TRUE",
            "text/plain": [
              "[1] TRUE"
            ]
          },
          "metadata": {}
        }
      ]
    },
    {
      "cell_type": "code",
      "source": [
        "# Operadores Logicos:\n",
        "# and(&), or(|), not (!)\n",
        "\n",
        "# Uso de combinaciones logicas\n",
        "print (( (5>4) & (8>9) | (4 < 6) ))\n",
        "\n",
        "# Estructuras de datos\n",
        "# Vectores\n",
        "datos <- c(3,5,7,9,12,6,8,2)\n",
        "datos\n",
        "length(datos)\n",
        "\n",
        "datos[1]\n",
        "datos[8]"
      ],
      "metadata": {
        "colab": {
          "base_uri": "https://localhost:8080/",
          "height": 104
        },
        "id": "tUIYbVIWuA6i",
        "outputId": "119c8738-3c30-4d99-b28f-78cbdcfd7083"
      },
      "execution_count": null,
      "outputs": [
        {
          "output_type": "stream",
          "name": "stdout",
          "text": [
            "[1] TRUE\n"
          ]
        },
        {
          "output_type": "display_data",
          "data": {
            "text/html": [
              "<style>\n",
              ".list-inline {list-style: none; margin:0; padding: 0}\n",
              ".list-inline>li {display: inline-block}\n",
              ".list-inline>li:not(:last-child)::after {content: \"\\00b7\"; padding: 0 .5ex}\n",
              "</style>\n",
              "<ol class=list-inline><li>3</li><li>5</li><li>7</li><li>9</li><li>12</li><li>6</li><li>8</li><li>2</li></ol>\n"
            ],
            "text/markdown": "1. 3\n2. 5\n3. 7\n4. 9\n5. 12\n6. 6\n7. 8\n8. 2\n\n\n",
            "text/latex": "\\begin{enumerate*}\n\\item 3\n\\item 5\n\\item 7\n\\item 9\n\\item 12\n\\item 6\n\\item 8\n\\item 2\n\\end{enumerate*}\n",
            "text/plain": [
              "[1]  3  5  7  9 12  6  8  2"
            ]
          },
          "metadata": {}
        },
        {
          "output_type": "display_data",
          "data": {
            "text/html": [
              "8"
            ],
            "text/markdown": "8",
            "text/latex": "8",
            "text/plain": [
              "[1] 8"
            ]
          },
          "metadata": {}
        },
        {
          "output_type": "display_data",
          "data": {
            "text/html": [
              "3"
            ],
            "text/markdown": "3",
            "text/latex": "3",
            "text/plain": [
              "[1] 3"
            ]
          },
          "metadata": {}
        },
        {
          "output_type": "display_data",
          "data": {
            "text/html": [
              "2"
            ],
            "text/markdown": "2",
            "text/latex": "2",
            "text/plain": [
              "[1] 2"
            ]
          },
          "metadata": {}
        }
      ]
    },
    {
      "cell_type": "code",
      "source": [
        "# Uso de Condicionales\n",
        "real <- 6\n",
        "otroEntero <- 8\n",
        "continuar <- TRUE\n",
        "print(paste(\"Real:\",real))\n",
        "print(paste(\"Entero:\",otroEntero))\n",
        "\n",
        "\n",
        "if (real > 0 ) print(\"Positivo\")\n",
        "\n",
        "\n",
        "if (real > 0 )\n",
        "print(\"Positivo\")\n",
        "\n",
        "\n",
        "if (real > 0 ) print(\"Positivo\") else print(\"negativo\")\n",
        "\n",
        "\n",
        "if (real > 0 ) {\n",
        "print(\"Positivo\")\n",
        "}else{\n",
        "print(\"negativo\")}\n",
        "\n",
        "\n",
        "res <- if (real > 0 ) TRUE else FALSE\n",
        "print(res)\n",
        "\n",
        "if ( real > otroEntero) {\n",
        "print(paste(\"El mayor es real: \",real))\n",
        "} else {\n",
        "print(paste(\"El mayor es entero: \",otroEntero))\n",
        "}#endif\n",
        "\n",
        "\n",
        "if ( real > otroEntero) {\n",
        "print(paste(\"El mayor es real: \",real))\n",
        "} else if ( real == otroEntero) {\n",
        "print(\"Son iguales\")\n",
        "} else {\n",
        "print(paste(\"El mayor es entero: \",otroEntero))\n",
        "}#endif\n",
        "\n",
        "# Par e Impar\n",
        "numero <- 1002\n",
        "res <- (-1) ^ numero\n",
        "if ( res == -1 ) {\n",
        "print(paste(\"El n?mero \",numero,\" es impar\"))\n",
        "} else{\n",
        "print(paste(\"El n?mero \",numero,\" es par\"))\n",
        "}#end if\n",
        "\n",
        "\n",
        "if (numero %% 2 == 0) {\n",
        "print(\"Es par\")\n",
        "} else {\n",
        "print(\"Es impar\")\n",
        "}#end if"
      ],
      "metadata": {
        "colab": {
          "base_uri": "https://localhost:8080/"
        },
        "id": "ap6gVpzNukbs",
        "outputId": "1896467e-ddc0-42b0-a645-875a3454fb25"
      },
      "execution_count": null,
      "outputs": [
        {
          "output_type": "stream",
          "name": "stdout",
          "text": [
            "[1] \"Real: 6\"\n",
            "[1] \"Entero: 8\"\n",
            "[1] \"Positivo\"\n",
            "[1] \"Positivo\"\n",
            "[1] \"Positivo\"\n",
            "[1] \"Positivo\"\n",
            "[1] TRUE\n",
            "[1] \"El mayor es entero:  8\"\n",
            "[1] \"El mayor es entero:  8\"\n",
            "[1] \"El n?mero  1002  es par\"\n",
            "[1] \"Es par\"\n"
          ]
        }
      ]
    },
    {
      "cell_type": "code",
      "source": [
        "# Funci?nes:  https://statisticsglobe.com/r-functions-list/\n",
        "\n",
        "# Ifelse\n",
        "x <- c(\"hombre\", \"hombre\", \"mujer\", \"hombre\", \"mujer\")\n",
        "y <- c(10, 14, 80, 56, 12)\n",
        "\n",
        "ifelse(x == \"hombre\", ifelse(y > 18, \"Hombre adulto\", \"Hombre menor de edad\"),\n",
        "ifelse(y > 18, \"Mujer adulta\", \"Mujer menor de edad\"))\n",
        "\n",
        "# Funcioens Matematicas\n",
        "x <- 2.3456\n",
        "sqrt(x)\n",
        "x ^ (1/3)\n",
        "log(x)\n",
        "exp(x)\n",
        "round(x,2)\n",
        "signif(x,3)\n",
        "\n",
        "# Vector\n",
        "datos <- c(3,6,8,9,2,4,7)\n",
        "datos\n",
        "length(datos)\n",
        "rev(datos)\n",
        "dotos_ord <- sort(datos)\n",
        "dotos_ord"
      ],
      "metadata": {
        "colab": {
          "base_uri": "https://localhost:8080/",
          "height": 208
        },
        "id": "oavhdI3UuBZa",
        "outputId": "203a5e41-265d-4957-b2db-a22ece98651c"
      },
      "execution_count": null,
      "outputs": [
        {
          "output_type": "display_data",
          "data": {
            "text/html": [
              "<style>\n",
              ".list-inline {list-style: none; margin:0; padding: 0}\n",
              ".list-inline>li {display: inline-block}\n",
              ".list-inline>li:not(:last-child)::after {content: \"\\00b7\"; padding: 0 .5ex}\n",
              "</style>\n",
              "<ol class=list-inline><li>'Hombre menor de edad'</li><li>'Hombre menor de edad'</li><li>'Mujer adulta'</li><li>'Hombre adulto'</li><li>'Mujer menor de edad'</li></ol>\n"
            ],
            "text/markdown": "1. 'Hombre menor de edad'\n2. 'Hombre menor de edad'\n3. 'Mujer adulta'\n4. 'Hombre adulto'\n5. 'Mujer menor de edad'\n\n\n",
            "text/latex": "\\begin{enumerate*}\n\\item 'Hombre menor de edad'\n\\item 'Hombre menor de edad'\n\\item 'Mujer adulta'\n\\item 'Hombre adulto'\n\\item 'Mujer menor de edad'\n\\end{enumerate*}\n",
            "text/plain": [
              "[1] \"Hombre menor de edad\" \"Hombre menor de edad\" \"Mujer adulta\"        \n",
              "[4] \"Hombre adulto\"        \"Mujer menor de edad\" "
            ]
          },
          "metadata": {}
        },
        {
          "output_type": "display_data",
          "data": {
            "text/html": [
              "1.53153517752613"
            ],
            "text/markdown": "1.53153517752613",
            "text/latex": "1.53153517752613",
            "text/plain": [
              "[1] 1.531535"
            ]
          },
          "metadata": {}
        },
        {
          "output_type": "display_data",
          "data": {
            "text/html": [
              "1.32867261615822"
            ],
            "text/markdown": "1.32867261615822",
            "text/latex": "1.32867261615822",
            "text/plain": [
              "[1] 1.328673"
            ]
          },
          "metadata": {}
        },
        {
          "output_type": "display_data",
          "data": {
            "text/html": [
              "0.852541232710195"
            ],
            "text/markdown": "0.852541232710195",
            "text/latex": "0.852541232710195",
            "text/plain": [
              "[1] 0.8525412"
            ]
          },
          "metadata": {}
        },
        {
          "output_type": "display_data",
          "data": {
            "text/html": [
              "10.4395345695502"
            ],
            "text/markdown": "10.4395345695502",
            "text/latex": "10.4395345695502",
            "text/plain": [
              "[1] 10.43953"
            ]
          },
          "metadata": {}
        },
        {
          "output_type": "display_data",
          "data": {
            "text/html": [
              "2.35"
            ],
            "text/markdown": "2.35",
            "text/latex": "2.35",
            "text/plain": [
              "[1] 2.35"
            ]
          },
          "metadata": {}
        },
        {
          "output_type": "display_data",
          "data": {
            "text/html": [
              "2.35"
            ],
            "text/markdown": "2.35",
            "text/latex": "2.35",
            "text/plain": [
              "[1] 2.35"
            ]
          },
          "metadata": {}
        },
        {
          "output_type": "display_data",
          "data": {
            "text/html": [
              "<style>\n",
              ".list-inline {list-style: none; margin:0; padding: 0}\n",
              ".list-inline>li {display: inline-block}\n",
              ".list-inline>li:not(:last-child)::after {content: \"\\00b7\"; padding: 0 .5ex}\n",
              "</style>\n",
              "<ol class=list-inline><li>3</li><li>6</li><li>8</li><li>9</li><li>2</li><li>4</li><li>7</li></ol>\n"
            ],
            "text/markdown": "1. 3\n2. 6\n3. 8\n4. 9\n5. 2\n6. 4\n7. 7\n\n\n",
            "text/latex": "\\begin{enumerate*}\n\\item 3\n\\item 6\n\\item 8\n\\item 9\n\\item 2\n\\item 4\n\\item 7\n\\end{enumerate*}\n",
            "text/plain": [
              "[1] 3 6 8 9 2 4 7"
            ]
          },
          "metadata": {}
        },
        {
          "output_type": "display_data",
          "data": {
            "text/html": [
              "7"
            ],
            "text/markdown": "7",
            "text/latex": "7",
            "text/plain": [
              "[1] 7"
            ]
          },
          "metadata": {}
        },
        {
          "output_type": "display_data",
          "data": {
            "text/html": [
              "<style>\n",
              ".list-inline {list-style: none; margin:0; padding: 0}\n",
              ".list-inline>li {display: inline-block}\n",
              ".list-inline>li:not(:last-child)::after {content: \"\\00b7\"; padding: 0 .5ex}\n",
              "</style>\n",
              "<ol class=list-inline><li>7</li><li>4</li><li>2</li><li>9</li><li>8</li><li>6</li><li>3</li></ol>\n"
            ],
            "text/markdown": "1. 7\n2. 4\n3. 2\n4. 9\n5. 8\n6. 6\n7. 3\n\n\n",
            "text/latex": "\\begin{enumerate*}\n\\item 7\n\\item 4\n\\item 2\n\\item 9\n\\item 8\n\\item 6\n\\item 3\n\\end{enumerate*}\n",
            "text/plain": [
              "[1] 7 4 2 9 8 6 3"
            ]
          },
          "metadata": {}
        },
        {
          "output_type": "display_data",
          "data": {
            "text/html": [
              "<style>\n",
              ".list-inline {list-style: none; margin:0; padding: 0}\n",
              ".list-inline>li {display: inline-block}\n",
              ".list-inline>li:not(:last-child)::after {content: \"\\00b7\"; padding: 0 .5ex}\n",
              "</style>\n",
              "<ol class=list-inline><li>2</li><li>3</li><li>4</li><li>6</li><li>7</li><li>8</li><li>9</li></ol>\n"
            ],
            "text/markdown": "1. 2\n2. 3\n3. 4\n4. 6\n5. 7\n6. 8\n7. 9\n\n\n",
            "text/latex": "\\begin{enumerate*}\n\\item 2\n\\item 3\n\\item 4\n\\item 6\n\\item 7\n\\item 8\n\\item 9\n\\end{enumerate*}\n",
            "text/plain": [
              "[1] 2 3 4 6 7 8 9"
            ]
          },
          "metadata": {}
        }
      ]
    },
    {
      "cell_type": "code",
      "source": [
        "# Funciones Estadisticas\n",
        "min(dotos_ord) # valor minimo\n",
        "max(dotos_ord) # valor maximo\n",
        "range(dotos_ord) # rango\n",
        "mean(dotos_ord) # media o promedio\n",
        "median(dotos_ord) # mediana (valor central)\n",
        "length(dotos_ord) # numero de datos\n",
        "var(dotos_ord) # varianza\n",
        "sd(dotos_ord) # desviacion estandar\n",
        "quantile(dotos_ord,0.25) # Percentil 25 = Q1\n",
        "quantile(dotos_ord,0.5) # percentil 50 = Q2 (mediana)\n",
        "quantile(dotos_ord,0.75) # Percentil 75 = Q3\n",
        "IQR(dotos_ord) # Rango intercuartilico\n",
        "summary(dotos_ord) # Resumen estadistico\n",
        "dotos_ord\n",
        "\n",
        "\n",
        "# Secuencias\n",
        "datos2 <- c(2:6)\n",
        "datos3 <- seq(2,6, by=0.5)\n",
        "datos4 <- rep(1:3, times=3)\n",
        "datos5 <- rep(1:3, each=3)\n",
        "\n",
        "datos2\n",
        "datos3\n",
        "datos4\n",
        "datos5\n",
        "\n",
        "\n",
        "# Ciclo FOR\n",
        "for ( contador in 1:10) {\n",
        "print(contador)\n",
        "}#end for\n",
        "\n",
        "for (dato in datos) {\n",
        "print(dato)\n",
        "}#end for\n",
        "\n",
        "# Ciclo while\n",
        "contador <-1\n",
        "while ( contador <= 10 ){\n",
        "print(contador)\n",
        "contador = contador +1\n",
        "}#end while\n",
        "\n",
        "# Switch con numero\n",
        "nume<-5\n",
        "resul<-switch(\n",
        "nume,\n",
        "\"uno\",\n",
        "\"dos\",\n",
        "\"tres\",\n",
        "\"cuatro\"\n",
        ")\n",
        "print(resul)\n",
        "\n",
        "# Switch con caracter\n",
        "var<-\"\"\n",
        "res2 <- switch(\n",
        "var,\n",
        "\"a\"= \"uno\",\n",
        "\"b\"=\"dos\",\n",
        "\"c\"=\"tres\"\n",
        ")\n",
        "print(res2)\n",
        "\n",
        "# Break / Next\n",
        "cont<-8\n",
        "while ( cont > 0 ){\n",
        "if ( cont == 4 ){\n",
        "break\n",
        "}#end if\n",
        "print(cont)\n",
        "cont<-cont-1\n",
        "}#end while\n",
        "\n",
        "\n",
        "for ( x in 1:15 ){\n",
        "if (x==13){\n",
        "next\n",
        "}#end if\n",
        "print(x)\n",
        "}#end for\n",
        "\n",
        "# Funciones\n",
        "lineal<-function(x){ # Funcion Lineal\n",
        "return(2*x + 1)\n",
        "}\n",
        "x<-c(-9,-6,-3,-1,0,1,3,6,9)\n",
        "print(paste(\"x=\",x,\"y=\",lineal(x)))\n",
        "\n",
        "y<-function(x){ # Funcion cuadratica\n",
        "return(x^2 - 3*x + 1)\n",
        "}\n",
        "x<-c(-9,-6,-3,-1,0,1,3,6,9)\n",
        "print(paste(\"x=\",x,\"y=\",y(x)))\n",
        "\n",
        "# Recursividad\n",
        "fact <- function(n){\n",
        "if (n==0) return (1) # Fin del ciclo\n",
        "if (n>0) return (n * fact(n-1))\n",
        "return (\"No existe.\") # caso invalido\n",
        "}\n",
        "\n",
        "for (contador in -1:5) {\n",
        "print(paste(contador,\"! : \",fact(contador)))\n",
        "}#end for\n",
        "\n",
        "#\n",
        "# Ejercicios\n",
        "#\n",
        "temp <- c(18,21,19,30,25)\n",
        "temp_ord <- sort(temp)\n",
        "temp_ord\n",
        "summary(temp_ord)"
      ],
      "metadata": {
        "colab": {
          "base_uri": "https://localhost:8080/",
          "height": 1000
        },
        "id": "D2dN70P0u_CS",
        "outputId": "a823bb7d-e626-4342-f479-e9e9b718652e"
      },
      "execution_count": null,
      "outputs": [
        {
          "output_type": "display_data",
          "data": {
            "text/html": [
              "2"
            ],
            "text/markdown": "2",
            "text/latex": "2",
            "text/plain": [
              "[1] 2"
            ]
          },
          "metadata": {}
        },
        {
          "output_type": "display_data",
          "data": {
            "text/html": [
              "9"
            ],
            "text/markdown": "9",
            "text/latex": "9",
            "text/plain": [
              "[1] 9"
            ]
          },
          "metadata": {}
        },
        {
          "output_type": "display_data",
          "data": {
            "text/html": [
              "<style>\n",
              ".list-inline {list-style: none; margin:0; padding: 0}\n",
              ".list-inline>li {display: inline-block}\n",
              ".list-inline>li:not(:last-child)::after {content: \"\\00b7\"; padding: 0 .5ex}\n",
              "</style>\n",
              "<ol class=list-inline><li>2</li><li>9</li></ol>\n"
            ],
            "text/markdown": "1. 2\n2. 9\n\n\n",
            "text/latex": "\\begin{enumerate*}\n\\item 2\n\\item 9\n\\end{enumerate*}\n",
            "text/plain": [
              "[1] 2 9"
            ]
          },
          "metadata": {}
        },
        {
          "output_type": "display_data",
          "data": {
            "text/html": [
              "5.57142857142857"
            ],
            "text/markdown": "5.57142857142857",
            "text/latex": "5.57142857142857",
            "text/plain": [
              "[1] 5.571429"
            ]
          },
          "metadata": {}
        },
        {
          "output_type": "display_data",
          "data": {
            "text/html": [
              "6"
            ],
            "text/markdown": "6",
            "text/latex": "6",
            "text/plain": [
              "[1] 6"
            ]
          },
          "metadata": {}
        },
        {
          "output_type": "display_data",
          "data": {
            "text/html": [
              "7"
            ],
            "text/markdown": "7",
            "text/latex": "7",
            "text/plain": [
              "[1] 7"
            ]
          },
          "metadata": {}
        },
        {
          "output_type": "display_data",
          "data": {
            "text/html": [
              "6.95238095238095"
            ],
            "text/markdown": "6.95238095238095",
            "text/latex": "6.95238095238095",
            "text/plain": [
              "[1] 6.952381"
            ]
          },
          "metadata": {}
        },
        {
          "output_type": "display_data",
          "data": {
            "text/html": [
              "2.63673679998231"
            ],
            "text/markdown": "2.63673679998231",
            "text/latex": "2.63673679998231",
            "text/plain": [
              "[1] 2.636737"
            ]
          },
          "metadata": {}
        },
        {
          "output_type": "display_data",
          "data": {
            "text/html": [
              "<strong>25%:</strong> 3.5"
            ],
            "text/markdown": "**25%:** 3.5",
            "text/latex": "\\textbf{25\\textbackslash{}\\%:} 3.5",
            "text/plain": [
              "25% \n",
              "3.5 "
            ]
          },
          "metadata": {}
        },
        {
          "output_type": "display_data",
          "data": {
            "text/html": [
              "<strong>50%:</strong> 6"
            ],
            "text/markdown": "**50%:** 6",
            "text/latex": "\\textbf{50\\textbackslash{}\\%:} 6",
            "text/plain": [
              "50% \n",
              "  6 "
            ]
          },
          "metadata": {}
        },
        {
          "output_type": "display_data",
          "data": {
            "text/html": [
              "<strong>75%:</strong> 7.5"
            ],
            "text/markdown": "**75%:** 7.5",
            "text/latex": "\\textbf{75\\textbackslash{}\\%:} 7.5",
            "text/plain": [
              "75% \n",
              "7.5 "
            ]
          },
          "metadata": {}
        },
        {
          "output_type": "display_data",
          "data": {
            "text/html": [
              "4"
            ],
            "text/markdown": "4",
            "text/latex": "4",
            "text/plain": [
              "[1] 4"
            ]
          },
          "metadata": {}
        },
        {
          "output_type": "display_data",
          "data": {
            "text/plain": [
              "   Min. 1st Qu.  Median    Mean 3rd Qu.    Max. \n",
              "  2.000   3.500   6.000   5.571   7.500   9.000 "
            ]
          },
          "metadata": {}
        },
        {
          "output_type": "display_data",
          "data": {
            "text/html": [
              "<style>\n",
              ".list-inline {list-style: none; margin:0; padding: 0}\n",
              ".list-inline>li {display: inline-block}\n",
              ".list-inline>li:not(:last-child)::after {content: \"\\00b7\"; padding: 0 .5ex}\n",
              "</style>\n",
              "<ol class=list-inline><li>2</li><li>3</li><li>4</li><li>6</li><li>7</li><li>8</li><li>9</li></ol>\n"
            ],
            "text/markdown": "1. 2\n2. 3\n3. 4\n4. 6\n5. 7\n6. 8\n7. 9\n\n\n",
            "text/latex": "\\begin{enumerate*}\n\\item 2\n\\item 3\n\\item 4\n\\item 6\n\\item 7\n\\item 8\n\\item 9\n\\end{enumerate*}\n",
            "text/plain": [
              "[1] 2 3 4 6 7 8 9"
            ]
          },
          "metadata": {}
        },
        {
          "output_type": "display_data",
          "data": {
            "text/html": [
              "<style>\n",
              ".list-inline {list-style: none; margin:0; padding: 0}\n",
              ".list-inline>li {display: inline-block}\n",
              ".list-inline>li:not(:last-child)::after {content: \"\\00b7\"; padding: 0 .5ex}\n",
              "</style>\n",
              "<ol class=list-inline><li>2</li><li>3</li><li>4</li><li>5</li><li>6</li></ol>\n"
            ],
            "text/markdown": "1. 2\n2. 3\n3. 4\n4. 5\n5. 6\n\n\n",
            "text/latex": "\\begin{enumerate*}\n\\item 2\n\\item 3\n\\item 4\n\\item 5\n\\item 6\n\\end{enumerate*}\n",
            "text/plain": [
              "[1] 2 3 4 5 6"
            ]
          },
          "metadata": {}
        },
        {
          "output_type": "display_data",
          "data": {
            "text/html": [
              "<style>\n",
              ".list-inline {list-style: none; margin:0; padding: 0}\n",
              ".list-inline>li {display: inline-block}\n",
              ".list-inline>li:not(:last-child)::after {content: \"\\00b7\"; padding: 0 .5ex}\n",
              "</style>\n",
              "<ol class=list-inline><li>2</li><li>2.5</li><li>3</li><li>3.5</li><li>4</li><li>4.5</li><li>5</li><li>5.5</li><li>6</li></ol>\n"
            ],
            "text/markdown": "1. 2\n2. 2.5\n3. 3\n4. 3.5\n5. 4\n6. 4.5\n7. 5\n8. 5.5\n9. 6\n\n\n",
            "text/latex": "\\begin{enumerate*}\n\\item 2\n\\item 2.5\n\\item 3\n\\item 3.5\n\\item 4\n\\item 4.5\n\\item 5\n\\item 5.5\n\\item 6\n\\end{enumerate*}\n",
            "text/plain": [
              "[1] 2.0 2.5 3.0 3.5 4.0 4.5 5.0 5.5 6.0"
            ]
          },
          "metadata": {}
        },
        {
          "output_type": "display_data",
          "data": {
            "text/html": [
              "<style>\n",
              ".list-inline {list-style: none; margin:0; padding: 0}\n",
              ".list-inline>li {display: inline-block}\n",
              ".list-inline>li:not(:last-child)::after {content: \"\\00b7\"; padding: 0 .5ex}\n",
              "</style>\n",
              "<ol class=list-inline><li>1</li><li>2</li><li>3</li><li>1</li><li>2</li><li>3</li><li>1</li><li>2</li><li>3</li></ol>\n"
            ],
            "text/markdown": "1. 1\n2. 2\n3. 3\n4. 1\n5. 2\n6. 3\n7. 1\n8. 2\n9. 3\n\n\n",
            "text/latex": "\\begin{enumerate*}\n\\item 1\n\\item 2\n\\item 3\n\\item 1\n\\item 2\n\\item 3\n\\item 1\n\\item 2\n\\item 3\n\\end{enumerate*}\n",
            "text/plain": [
              "[1] 1 2 3 1 2 3 1 2 3"
            ]
          },
          "metadata": {}
        },
        {
          "output_type": "display_data",
          "data": {
            "text/html": [
              "<style>\n",
              ".list-inline {list-style: none; margin:0; padding: 0}\n",
              ".list-inline>li {display: inline-block}\n",
              ".list-inline>li:not(:last-child)::after {content: \"\\00b7\"; padding: 0 .5ex}\n",
              "</style>\n",
              "<ol class=list-inline><li>1</li><li>1</li><li>1</li><li>2</li><li>2</li><li>2</li><li>3</li><li>3</li><li>3</li></ol>\n"
            ],
            "text/markdown": "1. 1\n2. 1\n3. 1\n4. 2\n5. 2\n6. 2\n7. 3\n8. 3\n9. 3\n\n\n",
            "text/latex": "\\begin{enumerate*}\n\\item 1\n\\item 1\n\\item 1\n\\item 2\n\\item 2\n\\item 2\n\\item 3\n\\item 3\n\\item 3\n\\end{enumerate*}\n",
            "text/plain": [
              "[1] 1 1 1 2 2 2 3 3 3"
            ]
          },
          "metadata": {}
        },
        {
          "output_type": "stream",
          "name": "stdout",
          "text": [
            "[1] 1\n",
            "[1] 2\n",
            "[1] 3\n",
            "[1] 4\n",
            "[1] 5\n",
            "[1] 6\n",
            "[1] 7\n",
            "[1] 8\n",
            "[1] 9\n",
            "[1] 10\n",
            "[1] 3\n",
            "[1] 6\n",
            "[1] 8\n",
            "[1] 9\n",
            "[1] 2\n",
            "[1] 4\n",
            "[1] 7\n",
            "[1] 1\n",
            "[1] 2\n",
            "[1] 3\n",
            "[1] 4\n",
            "[1] 5\n",
            "[1] 6\n",
            "[1] 7\n",
            "[1] 8\n",
            "[1] 9\n",
            "[1] 10\n",
            "NULL\n",
            "NULL\n",
            "[1] 8\n",
            "[1] 7\n",
            "[1] 6\n",
            "[1] 5\n",
            "[1] 1\n",
            "[1] 2\n",
            "[1] 3\n",
            "[1] 4\n",
            "[1] 5\n",
            "[1] 6\n",
            "[1] 7\n",
            "[1] 8\n",
            "[1] 9\n",
            "[1] 10\n",
            "[1] 11\n",
            "[1] 12\n",
            "[1] 14\n",
            "[1] 15\n",
            "[1] \"x= -9 y= -17\" \"x= -6 y= -11\" \"x= -3 y= -5\"  \"x= -1 y= -1\"  \"x= 0 y= 1\"   \n",
            "[6] \"x= 1 y= 3\"    \"x= 3 y= 7\"    \"x= 6 y= 13\"   \"x= 9 y= 19\"  \n",
            "[1] \"x= -9 y= 109\" \"x= -6 y= 55\"  \"x= -3 y= 19\"  \"x= -1 y= 5\"   \"x= 0 y= 1\"   \n",
            "[6] \"x= 1 y= -1\"   \"x= 3 y= 1\"    \"x= 6 y= 19\"   \"x= 9 y= 55\"  \n",
            "[1] \"-1 ! :  No existe.\"\n",
            "[1] \"0 ! :  1\"\n",
            "[1] \"1 ! :  1\"\n",
            "[1] \"2 ! :  2\"\n",
            "[1] \"3 ! :  6\"\n",
            "[1] \"4 ! :  24\"\n",
            "[1] \"5 ! :  120\"\n"
          ]
        },
        {
          "output_type": "display_data",
          "data": {
            "text/html": [
              "<style>\n",
              ".list-inline {list-style: none; margin:0; padding: 0}\n",
              ".list-inline>li {display: inline-block}\n",
              ".list-inline>li:not(:last-child)::after {content: \"\\00b7\"; padding: 0 .5ex}\n",
              "</style>\n",
              "<ol class=list-inline><li>18</li><li>19</li><li>21</li><li>25</li><li>30</li></ol>\n"
            ],
            "text/markdown": "1. 18\n2. 19\n3. 21\n4. 25\n5. 30\n\n\n",
            "text/latex": "\\begin{enumerate*}\n\\item 18\n\\item 19\n\\item 21\n\\item 25\n\\item 30\n\\end{enumerate*}\n",
            "text/plain": [
              "[1] 18 19 21 25 30"
            ]
          },
          "metadata": {}
        },
        {
          "output_type": "display_data",
          "data": {
            "text/plain": [
              "   Min. 1st Qu.  Median    Mean 3rd Qu.    Max. \n",
              "   18.0    19.0    21.0    22.6    25.0    30.0 "
            ]
          },
          "metadata": {}
        }
      ]
    },
    {
      "cell_type": "markdown",
      "source": [
        "EJERCICIO: Definir un vector con 20 elementos y obtener los valores del diagrama caja-brazos (limite inferior, limite superior, mediana, media, Q2 y Q3)"
      ],
      "metadata": {
        "id": "wTCryvKEwBep"
      }
    },
    {
      "cell_type": "code",
      "source": [
        "# Definir el vector con 20 elementos\n",
        "vector <- c(27, 84, 3, 56, 71, 19, 62, 45, 8, 90, 37, 12, 66, 29, 52, 74, 41, 88, 15, 33)\n",
        "\n",
        "# Calcular los valores del diagrama de caja\n",
        "boxplot_stats <- boxplot(vector, plot = FALSE)\n",
        "\n",
        "# Extraer los valores\n",
        "limite_inferior <- boxplot_stats$stats[1]\n",
        "q1 <- boxplot_stats$stats[2]\n",
        "mediana <- boxplot_stats$stats[3]\n",
        "q3 <- boxplot_stats$stats[4]\n",
        "limite_superior <- boxplot_stats$stats[5]\n",
        "\n",
        "# Calcular la media\n",
        "media <- mean(vector)\n",
        "\n",
        "# Mostrar los resultados\n",
        "cat(\"Límite Inferior:\", limite_inferior, \"\\n\")\n",
        "cat(\"Q1:\", q1, \"\\n\")\n",
        "cat(\"Mediana:\", mediana, \"\\n\")\n",
        "cat(\"Q3:\", q3, \"\\n\")\n",
        "cat(\"Límite Superior:\", limite_superior, \"\\n\")\n",
        "cat(\"Media:\", media, \"\\n\")"
      ],
      "metadata": {
        "colab": {
          "base_uri": "https://localhost:8080/"
        },
        "id": "fPTsj95wu_hO",
        "outputId": "5068ff61-8025-4ca9-af7f-fb804ed74e99"
      },
      "execution_count": null,
      "outputs": [
        {
          "output_type": "stream",
          "name": "stdout",
          "text": [
            "Límite Inferior: 3 \n",
            "Q1: 23 \n",
            "Mediana: 43 \n",
            "Q3: 68.5 \n",
            "Límite Superior: 90 \n",
            "Media: 45.6 \n"
          ]
        }
      ]
    }
  ]
}